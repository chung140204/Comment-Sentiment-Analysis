{
 "cells": [
  {
   "cell_type": "code",
   "execution_count": 3,
   "metadata": {},
   "outputs": [],
   "source": [
    "from sklearn.feature_extraction.text import TfidfVectorizer\n",
    "from sklearn.neighbors import KNeighborsClassifier\n",
    "from sklearn.metrics import accuracy_score,confusion_matrix,classification_report, f1_score\n",
    "from sklearn.feature_extraction.text import CountVectorizer"
   ]
  },
  {
   "cell_type": "code",
   "execution_count": 5,
   "metadata": {},
   "outputs": [
    {
     "name": "stdout",
     "output_type": "stream",
     "text": [
      "<class 'pandas.core.frame.DataFrame'>\n",
      "RangeIndex: 27390 entries, 0 to 27389\n",
      "Data columns (total 2 columns):\n",
      " #   Column     Non-Null Count  Dtype \n",
      "---  ------     --------------  ----- \n",
      " 0   text       27390 non-null  object\n",
      " 1   sentiment  27390 non-null  int64 \n",
      "dtypes: int64(1), object(1)\n",
      "memory usage: 428.1+ KB\n"
     ]
    }
   ],
   "source": [
    "import pandas as pd\n",
    "import os\n",
    "train = pd.read_csv(os.path.join(os.getcwd().replace('model', ''), 'data/processed_train.csv') )\n",
    "test = pd.read_csv(os.path.join(os.getcwd().replace('model', ''), 'data/processed_test.csv') )\n",
    "train.info()"
   ]
  },
  {
   "cell_type": "code",
   "execution_count": 6,
   "metadata": {},
   "outputs": [],
   "source": [
    "import seaborn as sns\n",
    "import matplotlib.pyplot as plt\n",
    "def model_eval(model):\n",
    "    model.fit(x_train,y_train)\n",
    "    y_pred=model.predict(x_test)\n",
    "    print(f'Accuracy Score is : {accuracy_score(y_test,y_pred)}')\n",
    "    print(f'Classification_report')\n",
    "    print(classification_report(y_test,y_pred))\n",
    "    print(f'Confusion Matrix')\n",
    "    cm=confusion_matrix(y_test,y_pred)\n",
    "    plt.figure(figsize=(8, 6))\n",
    "    sns.heatmap(cm, annot=True, fmt='d', cmap='Blues', xticklabels=['Negative', 'Neutral', 'Positive'], yticklabels=['Negative', 'Neutral', 'Positive'])\n",
    "    plt.xlabel('Predicted Labels')\n",
    "    plt.ylabel('True Labels')\n",
    "    plt.title('Confusion Matrix Heatmap')\n",
    "    plt.show()"
   ]
  },
  {
   "cell_type": "code",
   "execution_count": 7,
   "metadata": {},
   "outputs": [],
   "source": [
    "def model_train(model):\n",
    "    model.fit(x_train, y_train)\n",
    "    y_pred = model.predict(x_test)\n",
    "    return f1_score(y_test, y_pred, average=\"weighted\")"
   ]
  },
  {
   "cell_type": "code",
   "execution_count": 8,
   "metadata": {},
   "outputs": [],
   "source": [
    "def tfidf_vectorizer():\n",
    "    vec=TfidfVectorizer(max_features=10000)\n",
    "    x_train=vec.fit_transform(train['text']).toarray()\n",
    "    x_test=vec.transform(test['text']).toarray()\n",
    "    y_train=train['sentiment']\n",
    "    y_test=test['sentiment']\n",
    "    return x_train, y_train, x_test, y_test\n",
    "\n",
    "def bog_vectorizer():\n",
    "    vec = CountVectorizer(max_features=10000)\n",
    "    x_train = vec.fit_transform(train['text']).toarray()\n",
    "    x_test = vec.transform(test['text']).toarray()\n",
    "    y_train = train['sentiment']\n",
    "    y_test = test['sentiment']\n",
    "    return x_train, y_train, x_test, y_test\n",
    "\n",
    "def binary_vectorizer():\n",
    "    vec = CountVectorizer(binary=True, max_features=10000)\n",
    "    x_train = vec.fit_transform(train['text']).toarray()\n",
    "    x_test = vec.transform(test['text']).toarray()\n",
    "    y_train = train['sentiment']\n",
    "    y_test = test['sentiment']\n",
    "    return x_train, y_train, x_test, y_test"
   ]
  },
  {
   "cell_type": "code",
   "execution_count": null,
   "metadata": {},
   "outputs": [],
   "source": [
    "\n",
    "best_f1 = 0\n",
    "for i in range(1, 100):\n",
    "    knn = KNeighborsClassifier(n_neighbors=i)\n",
    "    f1 = model_train(knn)\n",
    "    if f1 > best_f1:\n",
    "        best_f1 = f1\n",
    "        best_k = i\n",
    "print(f\"Best f1 score is {best_f1} with k={best_k}\")\n"
   ]
  },
  {
   "cell_type": "code",
   "execution_count": 8,
   "metadata": {},
   "outputs": [
    {
     "name": "stdout",
     "output_type": "stream",
     "text": [
      "f1 score is 0.41578503496874325 with k=3, metric=euclidean, weight=uniform, vectorization=TF-IDF\n",
      "f1 score is 0.5180767000410418 with k=3, metric=euclidean, weight=uniform, vectorization=Bag of Words\n",
      "f1 score is 0.5251776571289408 with k=3, metric=euclidean, weight=uniform, vectorization=Binary\n",
      "f1 score is 0.415681237814423 with k=3, metric=euclidean, weight=distance, vectorization=TF-IDF\n",
      "f1 score is 0.5218573251185644 with k=3, metric=euclidean, weight=distance, vectorization=Bag of Words\n",
      "f1 score is 0.5303008761149888 with k=3, metric=euclidean, weight=distance, vectorization=Binary\n",
      "f1 score is 0.40792886367451253 with k=3, metric=manhattan, weight=uniform, vectorization=TF-IDF\n",
      "f1 score is 0.521109215981387 with k=3, metric=manhattan, weight=uniform, vectorization=Bag of Words\n",
      "f1 score is 0.5251776571289408 with k=3, metric=manhattan, weight=uniform, vectorization=Binary\n",
      "f1 score is 0.4029565406914716 with k=3, metric=manhattan, weight=distance, vectorization=TF-IDF\n",
      "f1 score is 0.5272784629462453 with k=3, metric=manhattan, weight=distance, vectorization=Bag of Words\n",
      "f1 score is 0.5311986864306808 with k=3, metric=manhattan, weight=distance, vectorization=Binary\n",
      "f1 score is 0.5541049680543332 with k=3, metric=cosine, weight=uniform, vectorization=TF-IDF\n",
      "f1 score is 0.5334666083196941 with k=3, metric=cosine, weight=uniform, vectorization=Bag of Words\n",
      "f1 score is 0.5383827115635655 with k=3, metric=cosine, weight=uniform, vectorization=Binary\n",
      "f1 score is 0.5539681239445636 with k=3, metric=cosine, weight=distance, vectorization=TF-IDF\n",
      "f1 score is 0.5360000854922149 with k=3, metric=cosine, weight=distance, vectorization=Bag of Words\n",
      "f1 score is 0.5468867966312376 with k=3, metric=cosine, weight=distance, vectorization=Binary\n",
      "Best f1 score is 0.5541049680543332 with k=3, metric=cosine, weight=uniform, vectorization=TF-IDF\n"
     ]
    }
   ],
   "source": [
    "k=3\n",
    "best_f1 = 0\n",
    "metrics=['euclidean', 'manhattan', 'cosine']\n",
    "weights=['uniform', 'distance']\n",
    "for metric in metrics:\n",
    "    for weight in weights:\n",
    "        # TF-IDF Vectorization\n",
    "        x_train, y_train, x_test, y_test = tfidf_vectorizer()\n",
    "        knn = KNeighborsClassifier(n_neighbors=k, metric=metric, weights=weight)\n",
    "        f1 = model_train(knn)\n",
    "        if f1 > best_f1:\n",
    "            best_f1 = f1\n",
    "            best_k = k\n",
    "            best_metric = metric\n",
    "            best_weight = weight\n",
    "            best_vectorization = 'TF-IDF'\n",
    "        print(f\"f1 score is {f1} with k={k}, metric={metric}, weight={weight}, vectorization=TF-IDF\")\n",
    "        # Bag of Words Vectorization    \n",
    "        x_train, y_train, x_test, y_test = bog_vectorizer()\n",
    "        knn = KNeighborsClassifier(n_neighbors=k, metric=metric, weights=weight)\n",
    "        f1 = model_train(knn)\n",
    "        if f1 > best_f1:\n",
    "            best_f1 = f1\n",
    "            best_k = k\n",
    "            best_metric = metric\n",
    "            best_weight = weight\n",
    "            best_vectorization = 'Bag of Words'\n",
    "        print(f\"f1 score is {f1} with k={k}, metric={metric}, weight={weight}, vectorization=Bag of Words\")\n",
    "        # Binary Vectorization\n",
    "        x_train, y_train, x_test, y_test = binary_vectorizer()\n",
    "        knn = KNeighborsClassifier(n_neighbors=k, metric=metric, weights=weight)\n",
    "        f1 = model_train(knn)\n",
    "        if f1 > best_f1:\n",
    "            best_f1 = f1\n",
    "            best_k = k\n",
    "            best_metric = metric\n",
    "            best_weight = weight\n",
    "            best_vectorization = 'Binary'\n",
    "        print(f\"f1 score is {f1} with k={k}, metric={metric}, weight={weight}, vectorization=Binary\")\n",
    "\n",
    "print(f\"Best f1 score is {best_f1} with k={best_k}, metric={best_metric}, weight={best_weight}, vectorization={best_vectorization}\")"
   ]
  },
  {
   "cell_type": "code",
   "execution_count": 9,
   "metadata": {},
   "outputs": [
    {
     "name": "stdout",
     "output_type": "stream",
     "text": [
      "Accuracy Score is : 0.5345072422607214\n",
      "Classification_report\n",
      "              precision    recall  f1-score   support\n",
      "\n",
      "           0       0.48      0.49      0.49      1000\n",
      "           1       0.51      0.63      0.56      1418\n",
      "           2       0.68      0.45      0.54      1103\n",
      "\n",
      "    accuracy                           0.53      3521\n",
      "   macro avg       0.55      0.52      0.53      3521\n",
      "weighted avg       0.55      0.53      0.53      3521\n",
      "\n",
      "Confusion Matrix\n"
     ]
    },
    {
     "data": {
      "image/png": "[encoded data removed]",
      "text/plain": [
       "<Figure size 800x600 with 2 Axes>"
      ]
     },
     "metadata": {},
     "output_type": "display_data"
    }
   ],
   "source": [
    "best_model = KNeighborsClassifier(n_neighbors=3, metric='cosine', weights='uniform')\n",
    "x_train, y_train, x_test, y_test = tfidf_vectorizer()\n",
    "model_eval(best_model)"
   ]
  },
  {
   "cell_type": "code",
   "execution_count": null,
   "metadata": {},
   "outputs": [],
   "source": []
  }
 ],
 "metadata": {
  "kernelspec": {
   "display_name": "Python 3",
   "language": "python",
   "name": "python3"
  },
  "language_info": {
   "codemirror_mode": {
    "name": "ipython",
    "version": 3
   },
   "file_extension": ".py",
   "mimetype": "text/x-python",
   "name": "python",
   "nbconvert_exporter": "python",
   "pygments_lexer": "ipython3",
   "version": "3.9.13"
  }
 },
 "nbformat": 4,
 "nbformat_minor": 2
}
