{
 "cells": [
  {
   "cell_type": "code",
   "execution_count": 1,
   "metadata": {},
   "outputs": [],
   "source": [
    "from sklearn.feature_extraction.text import TfidfVectorizer\n",
    "from sklearn.svm import SVC\n",
    "from sklearn.metrics import accuracy_score,confusion_matrix,classification_report, f1_score\n",
    "from sklearn.feature_extraction.text import CountVectorizer"
   ]
  },
  {
   "cell_type": "code",
   "execution_count": 2,
   "metadata": {},
   "outputs": [
    {
     "name": "stdout",
     "output_type": "stream",
     "text": [
      "<class 'pandas.core.frame.DataFrame'>\n",
      "RangeIndex: 27390 entries, 0 to 27389\n",
      "Data columns (total 2 columns):\n",
      " #   Column     Non-Null Count  Dtype \n",
      "---  ------     --------------  ----- \n",
      " 0   text       27390 non-null  object\n",
      " 1   sentiment  27390 non-null  int64 \n",
      "dtypes: int64(1), object(1)\n",
      "memory usage: 428.1+ KB\n"
     ]
    }
   ],
   "source": [
    "import pandas as pd\n",
    "import os\n",
    "train = pd.read_csv(os.path.join(os.getcwd().replace('model', ''), 'data/processed_train.csv') )\n",
    "test = pd.read_csv(os.path.join(os.getcwd().replace('model', ''), 'data/processed_test.csv') )\n",
    "train.info()"
   ]
  },
  {
   "cell_type": "code",
   "execution_count": 3,
   "metadata": {},
   "outputs": [],
   "source": [
    "import seaborn as sns\n",
    "import matplotlib.pyplot as plt\n",
    "def model_eval(model):\n",
    "    model.fit(x_train,y_train)\n",
    "    y_pred=model.predict(x_test)\n",
    "    print(f'Accuracy Score is : {accuracy_score(y_test,y_pred)}')\n",
    "    print(f'Classification_report')\n",
    "    print(classification_report(y_test,y_pred))\n",
    "    print(f'Confusion Matrix')\n",
    "    cm=confusion_matrix(y_test,y_pred)\n",
    "    plt.figure(figsize=(8, 6))\n",
    "    sns.heatmap(cm, annot=True, fmt='d', cmap='Blues', xticklabels=['Negative', 'Neutral', 'Positive'], yticklabels=['Negative', 'Neutral', 'Positive'])\n",
    "    plt.xlabel('Predicted Labels')\n",
    "    plt.ylabel('True Labels')\n",
    "    plt.title('Confusion Matrix Heatmap')\n",
    "    plt.show()"
   ]
  },
  {
   "cell_type": "code",
   "execution_count": 4,
   "metadata": {},
   "outputs": [],
   "source": [
    "def model_train(model):\n",
    "    model.fit(x_train, y_train)\n",
    "    y_pred = model.predict(x_test)\n",
    "    return f1_score(y_test, y_pred, average=\"weighted\")"
   ]
  },
  {
   "cell_type": "code",
   "execution_count": 5,
   "metadata": {},
   "outputs": [],
   "source": [
    "def tfidf_vectorizer():\n",
    "    vec=TfidfVectorizer(max_features=10000)\n",
    "    x_train=vec.fit_transform(train['text']).toarray()\n",
    "    x_test=vec.transform(test['text']).toarray()\n",
    "    y_train=train['sentiment']\n",
    "    y_test=test['sentiment']\n",
    "    return x_train, y_train, x_test, y_test\n",
    "\n",
    "def bog_vectorizer():\n",
    "    vec = CountVectorizer(max_features=10000)\n",
    "    x_train = vec.fit_transform(train['text']).toarray()\n",
    "    x_test = vec.transform(test['text']).toarray()\n",
    "    y_train = train['sentiment']\n",
    "    y_test = test['sentiment']\n",
    "    return x_train, y_train, x_test, y_test\n",
    "\n",
    "def binary_vectorizer():\n",
    "    vec = CountVectorizer(binary=True, max_features=10000)\n",
    "    x_train = vec.fit_transform(train['text']).toarray()\n",
    "    x_test = vec.transform(test['text']).toarray()\n",
    "    y_train = train['sentiment']\n",
    "    y_test = test['sentiment']\n",
    "    return x_train, y_train, x_test, y_test"
   ]
  },
  {
   "cell_type": "code",
   "execution_count": null,
   "metadata": {},
   "outputs": [],
   "source": [
    "best_f1 = 0\n",
    "C= [0.1, 1, 10, 100]\n",
    "kernels = ['linear', 'poly', 'rbf', 'sigmoid']\n",
    "for c in C:\n",
    "    for kernel in kernels:\n",
    "        # TF-IDF Vectorization\n",
    "        x_train, y_train, x_test, y_test = tfidf_vectorizer()\n",
    "        svc = SVC(C=c, kernel=kernel)\n",
    "        f1 = model_train(svc)\n",
    "        if f1 > best_f1:\n",
    "            best_f1 = f1\n",
    "            best_c = c\n",
    "            best_kernel = kernel\n",
    "            best_vectorization = 'TF-IDF'\n",
    "        print(f\"f1 score is {f1} with c = {c}, kernel = {kernel}, vectorization=TF-IDF\")\n",
    "        # Bag of Words Vectorization    \n",
    "        x_train, y_train, x_test, y_test = bog_vectorizer()\n",
    "        svc = SVC(C=c, kernel=kernel)\n",
    "        f1 = model_train(svc)\n",
    "        if f1 > best_f1:\n",
    "            best_f1 = f1\n",
    "            best_c = c\n",
    "            best_kernel = kernel\n",
    "            best_vectorization = 'Bag of Words'\n",
    "        print(f\"f1 score is {f1} with c = {c}, kernel = {kernel}, vectorization=Bag of Words\")\n",
    "        # Binary Vectorization\n",
    "        x_train, y_train, x_test, y_test = binary_vectorizer()\n",
    "        svc = SVC(C=c, kernel=kernel)\n",
    "        f1 = model_train(svc)\n",
    "        if f1 > best_f1:\n",
    "            best_f1 = f1\n",
    "            best_c = c\n",
    "            best_kernel = kernel\n",
    "            best_vectorization = 'Binary'\n",
    "        print(f\"f1 score is {f1} with c = {c}, kernel = {kernel}, vectorization=Binary\")\n",
    "\n",
    "print(f\"Best f1 score is {best_f1} with c = {best_c}, kernel = {best_kernel}, vectorization={best_vectorization}\")"
   ]
  },
  {
   "cell_type": "code",
   "execution_count": 7,
   "metadata": {},
   "outputs": [
    {
     "name": "stdout",
     "output_type": "stream",
     "text": [
      "Accuracy Score is : 0.709741550695825\n",
      "Classification_report\n",
      "              precision    recall  f1-score   support\n",
      "\n",
      "           0       0.76      0.61      0.68      1000\n",
      "           1       0.63      0.79      0.70      1418\n",
      "           2       0.81      0.69      0.75      1103\n",
      "\n",
      "    accuracy                           0.71      3521\n",
      "   macro avg       0.74      0.70      0.71      3521\n",
      "weighted avg       0.73      0.71      0.71      3521\n",
      "\n",
      "Confusion Matrix\n"
     ]
    },
    {
     "data": {
      "image/png": "[encoded data removed]",
      "text/plain": [
       "<Figure size 800x600 with 2 Axes>"
      ]
     },
     "metadata": {},
     "output_type": "display_data"
    }
   ],
   "source": [
    "best_model = SVC(C = 1, kernel = 'rbf')\n",
    "x_train, y_train, x_test, y_test = tfidf_vectorizer()\n",
    "model_eval(best_model)"
   ]
  },
  {
   "cell_type": "code",
   "execution_count": null,
   "metadata": {},
   "outputs": [],
   "source": []
  }
 ],
 "metadata": {
  "kernelspec": {
   "display_name": "Python 3",
   "language": "python",
   "name": "python3"
  },
  "language_info": {
   "codemirror_mode": {
    "name": "ipython",
    "version": 3
   },
   "file_extension": ".py",
   "mimetype": "text/x-python",
   "name": "python",
   "nbconvert_exporter": "python",
   "pygments_lexer": "ipython3",
   "version": "3.9.13"
  }
 },
 "nbformat": 4,
 "nbformat_minor": 2
}
